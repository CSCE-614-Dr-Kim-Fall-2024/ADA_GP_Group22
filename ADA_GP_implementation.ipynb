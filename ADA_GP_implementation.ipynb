{
  "nbformat": 4,
  "nbformat_minor": 0,
  "metadata": {
    "colab": {
      "provenance": [],
      "gpuType": "V28"
    },
    "kernelspec": {
      "name": "python3",
      "display_name": "Python 3"
    },
    "language_info": {
      "name": "python"
    },
    "accelerator": "TPU"
  },
  "cells": [
    {
      "cell_type": "code",
      "source": [
        "import torch\n",
        "from torch import nn # nn contains all of PyTorch's building blocks for neural networks\n",
        "import matplotlib.pyplot as plt\n",
        "\n",
        "# Check PyTorch version\n",
        "torch.__version__"
      ],
      "metadata": {
        "colab": {
          "base_uri": "https://localhost:8080/",
          "height": 36
        },
        "id": "1KubGeLiGKSx",
        "outputId": "e276737b-9183-4c28-d9d7-d36af1baf66f"
      },
      "execution_count": 87,
      "outputs": [
        {
          "output_type": "execute_result",
          "data": {
            "text/plain": [
              "'2.5.1+cpu'"
            ],
            "application/vnd.google.colaboratory.intrinsic+json": {
              "type": "string"
            }
          },
          "metadata": {},
          "execution_count": 87
        }
      ]
    },
    {
      "cell_type": "markdown",
      "source": [
        "Creating data using Linear Regression \\\\\n",
        "We use linear regression to create the data with known parameters (things that can be learned by a model) and then we use PyTorch to see if we can build model to estimate these parameters using gradient descent.\n"
      ],
      "metadata": {
        "id": "XSRcFqtqsmNo"
      }
    },
    {
      "cell_type": "code",
      "source": [
        "# Create *known* parameters\n",
        "weight = 0.7\n",
        "bias = 0.3\n",
        "\n",
        "# Create data\n",
        "start = 0\n",
        "end = 1\n",
        "step = 0.02\n",
        "X = torch.arange(start, end, step).unsqueeze(dim=1)\n",
        "y = weight * X + bias\n",
        "\n",
        "X[:10], y[:10]"
      ],
      "metadata": {
        "colab": {
          "base_uri": "https://localhost:8080/"
        },
        "id": "kCDB53OjGNAu",
        "outputId": "ce31f425-4cfc-4386-cbb7-522b4b0a1132"
      },
      "execution_count": 88,
      "outputs": [
        {
          "output_type": "execute_result",
          "data": {
            "text/plain": [
              "(tensor([[0.0000],\n",
              "         [0.0200],\n",
              "         [0.0400],\n",
              "         [0.0600],\n",
              "         [0.0800],\n",
              "         [0.1000],\n",
              "         [0.1200],\n",
              "         [0.1400],\n",
              "         [0.1600],\n",
              "         [0.1800]]),\n",
              " tensor([[0.3000],\n",
              "         [0.3140],\n",
              "         [0.3280],\n",
              "         [0.3420],\n",
              "         [0.3560],\n",
              "         [0.3700],\n",
              "         [0.3840],\n",
              "         [0.3980],\n",
              "         [0.4120],\n",
              "         [0.4260]]))"
            ]
          },
          "metadata": {},
          "execution_count": 88
        }
      ]
    },
    {
      "cell_type": "markdown",
      "source": [
        "Splitting Data \\\\\n",
        "We split 80% of our data into the training set and 20% to the testing set"
      ],
      "metadata": {
        "id": "T7nhwRdHs9FF"
      }
    },
    {
      "cell_type": "code",
      "source": [
        "# Create train/test split\n",
        "train_split = int(0.8 * len(X)) # 80% of data used for training set, 20% for testing\n",
        "X_train, y_train = X[:train_split], y[:train_split]\n",
        "X_test, y_test = X[train_split:], y[train_split:]\n",
        "\n",
        "len(X_train), len(y_train), len(X_test), len(y_test)"
      ],
      "metadata": {
        "colab": {
          "base_uri": "https://localhost:8080/"
        },
        "id": "2qR98aotGR1y",
        "outputId": "6d44f92e-5b04-476e-b056-f6eeb5f26b62"
      },
      "execution_count": 89,
      "outputs": [
        {
          "output_type": "execute_result",
          "data": {
            "text/plain": [
              "(40, 40, 10, 10)"
            ]
          },
          "metadata": {},
          "execution_count": 89
        }
      ]
    },
    {
      "cell_type": "markdown",
      "source": [
        "We create a plot to visualize the training and testing data"
      ],
      "metadata": {
        "id": "YQMp76GAtO_q"
      }
    },
    {
      "cell_type": "code",
      "source": [
        "def plot_predictions(train_data=X_train,\n",
        "                     train_labels=y_train,\n",
        "                     test_data=X_test,\n",
        "                     test_labels=y_test,\n",
        "                     predictions=None):\n",
        "  \"\"\"\n",
        "  Plots training data, test data and compares predictions.\n",
        "  \"\"\"\n",
        "  plt.figure(figsize=(10, 7))\n",
        "\n",
        "  # Plot training data in blue\n",
        "  plt.scatter(train_data, train_labels, c=\"b\", s=4, label=\"Training data\")\n",
        "\n",
        "  # Plot test data in green\n",
        "  plt.scatter(test_data, test_labels, c=\"g\", s=4, label=\"Testing data\")\n",
        "\n",
        "  if predictions is not None:\n",
        "    # Plot the predictions in red (predictions were made on the test data)\n",
        "    plt.scatter(test_data, predictions, c=\"r\", s=4, label=\"Predictions\")\n",
        "\n",
        "  # Show the legend\n",
        "  plt.legend(prop={\"size\": 14});"
      ],
      "metadata": {
        "id": "3gnSRcZKGW4J"
      },
      "execution_count": 90,
      "outputs": []
    },
    {
      "cell_type": "code",
      "source": [
        "plot_predictions();"
      ],
      "metadata": {
        "colab": {
          "base_uri": "https://localhost:8080/",
          "height": 599
        },
        "id": "q4-RJyjSGcpJ",
        "outputId": "d28e827d-1d46-436e-de0e-f95b60a0c7c6"
      },
      "execution_count": 91,
      "outputs": [
        {
          "output_type": "display_data",
          "data": {
            "text/plain": [
              "<Figure size 1000x700 with 1 Axes>"
            ],
            "image/png": "[encoded data removed]"
          },
          "metadata": {}
        }
      ]
    },
    {
      "cell_type": "markdown",
      "source": [
        "Here we build the DNN model class and define how it is to be trained in the \\\\\n",
        "(1)Warm up, (2)GP (3)BP phase, how the predictor model is trained and how the alternating between GP and BP phase is performed\n"
      ],
      "metadata": {
        "id": "M5qSE7xVtay7"
      }
    },
    {
      "cell_type": "code",
      "source": [
        "# Create a DNN model class\n",
        "input_size = 28 * 28\n",
        "hidden_sizes = [128, 64]\n",
        "output_size = 10\n",
        "class DNNModel(nn.Module):\n",
        "    def __init__(self, input_size, hidden_sizes, output_size):\n",
        "        super(DNNModel, self).__init__()\n",
        "        self.layers = nn.Sequential(\n",
        "            nn.Linear(input_size, hidden_sizes[0]),\n",
        "            nn.ReLU(),\n",
        "            nn.Linear(hidden_sizes[0], hidden_sizes[1]),\n",
        "            nn.ReLU(),\n",
        "            nn.Linear(hidden_sizes[1], output_size)\n",
        "        )\n",
        "\n",
        "    def forward(self, x):\n",
        "        return self.layers(x)\n",
        "    def train_adagp(model, predictor, dataloader, criterion, optimizer, predictor_optimizer, epochs=10, warmup_epochs=5):\n",
        "        device = torch.device(\"cuda\" if torch.cuda.is_available() else \"cpu\")\n",
        "        model = model.to(device)\n",
        "        predictor = predictor.to(device)\n",
        "\n",
        "        for epoch in range(epochs):\n",
        "           model.train()\n",
        "           for i, (inputs, targets) in enumerate(dataloader):\n",
        "                inputs, targets = inputs.to(device), targets.to(device)\n",
        "                batch_size = inputs.size(0)\n",
        "\n",
        "                inputs = inputs.view(batch_size, -1)\n",
        "\n",
        "                if len(inputs.shape) == 4:  # (batch_size, 1, 28, 28) for MNIST\n",
        "                  inputs = inputs.view(inputs.size(0), -1)  # Flatten to (batch_size, 784)\n",
        "\n",
        "            # Forward pass\n",
        "                outputs = model(inputs)\n",
        "                loss = criterion(outputs, targets)\n",
        "\n",
        "                if epoch < warmup_epochs:\n",
        "                # Warm-up phase: Backpropagate true gradients\n",
        "                    optimizer.zero_grad()\n",
        "                    loss.backward()\n",
        "                    optimizer.step()\n",
        "\n",
        "                # Train predictor model\n",
        "                    with torch.no_grad():\n",
        "                        predicted_gradients = predictor(inputs.view(batch_size, -1))\n",
        "                    true_gradients = torch.autograd.grad(loss, model.parameters(), retain_graph=True)\n",
        "                    predictor_loss = nn.MSELoss()(predicted_gradients, torch.cat([g.view(-1) for g in true_gradients]))\n",
        "                    predictor_optimizer.zero_grad()\n",
        "                    predictor_loss.backward()\n",
        "                    predictor_optimizer.step()\n",
        "                else:\n",
        "                # Phase BP\n",
        "                   if i % 2 == 0:  # Alternate between BP and GP\n",
        "                        optimizer.zero_grad()\n",
        "                        loss.backward()\n",
        "                        optimizer.step()\n",
        "\n",
        "                    # Train predictor model\n",
        "                        with torch.no_grad():\n",
        "                            predicted_gradients = predictor(inputs.view(batch_size, -1))\n",
        "                        true_gradients = torch.autograd.grad(loss, model.parameters(), retain_graph=True)\n",
        "                        predictor_loss = nn.MSELoss()(predicted_gradients, torch.cat([g.view(-1) for g in true_gradients]))\n",
        "                        predictor_optimizer.zero_grad()\n",
        "                        predictor_loss.backward()\n",
        "                        predictor_optimizer.step()\n",
        "                   else:\n",
        "                    # Phase GP: Use predicted gradients\n",
        "                        predicted_gradients = predictor(inputs.view(batch_size, -1))\n",
        "                        optimizer.zero_grad()\n",
        "                        for param, grad in zip(model.parameters(), predicted_gradients.split([p.numel() for p in model.parameters()])):\n",
        "                            param.grad = grad.view(param.size())\n",
        "                        optimizer.step()\n",
        "\n",
        "           print(f\"Epoch {epoch+1}/{epochs}, Loss: {loss.item()}\")"
      ],
      "metadata": {
        "id": "OBWO_KkgGiK3"
      },
      "execution_count": 92,
      "outputs": []
    },
    {
      "cell_type": "markdown",
      "source": [
        "Here we design the much simpler Gradient Predictor class"
      ],
      "metadata": {
        "id": "_seuxEpKuFtb"
      }
    },
    {
      "cell_type": "code",
      "source": [
        "class GradientPredictor(nn.Module):\n",
        "    def __init__(self, input_size, output_size):\n",
        "        super(GradientPredictor, self).__init__()\n",
        "        self.layers = nn.Sequential(\n",
        "            nn.Linear(input_size, 128),\n",
        "            nn.ReLU(),\n",
        "            nn.Linear(128, output_size)\n",
        "        )\n",
        "\n",
        "    def forward(self, x):\n",
        "        return self.layers(x)"
      ],
      "metadata": {
        "id": "p9M3PEN5G-8d"
      },
      "execution_count": 93,
      "outputs": []
    },
    {
      "cell_type": "markdown",
      "source": [
        "Here we create a model instance of the class we made and check its parameters"
      ],
      "metadata": {
        "id": "-0NsfYUpujzS"
      }
    },
    {
      "cell_type": "code",
      "source": [
        "# Set manual seed since nn.Parameter are randomly initialized\n",
        "torch.manual_seed(42)\n",
        "\n",
        "# Define input_size, hidden_sizes and output_size\n",
        "input_size = 1  # Example input size, adjust as needed\n",
        "hidden_sizes = [128, 64] # Example hidden sizes, adjust as needed\n",
        "output_size = 1  # Example output size, adjust as needed\n",
        "\n",
        "# Create an instance of the model providing the necessary arguments\n",
        "model_0 = DNNModel(input_size, hidden_sizes, output_size)\n",
        "\n",
        "# Check the nn.Parameter(s) within the nn.Module subclass we created\n",
        "list(model_0.parameters())"
      ],
      "metadata": {
        "colab": {
          "base_uri": "https://localhost:8080/"
        },
        "id": "gf4FJoddIlbM",
        "outputId": "b55dd34c-1ffc-4dd2-da04-3580e15594bb"
      },
      "execution_count": 94,
      "outputs": [
        {
          "output_type": "execute_result",
          "data": {
            "text/plain": [
              "[Parameter containing:\n",
              " tensor([[ 0.7645],\n",
              "         [ 0.8300],\n",
              "         [-0.2343],\n",
              "         [ 0.9186],\n",
              "         [-0.2191],\n",
              "         [ 0.2018],\n",
              "         [-0.4869],\n",
              "         [ 0.5873],\n",
              "         [ 0.8815],\n",
              "         [-0.7336],\n",
              "         [ 0.8692],\n",
              "         [ 0.1872],\n",
              "         [ 0.7388],\n",
              "         [ 0.1354],\n",
              "         [ 0.4822],\n",
              "         [-0.1412],\n",
              "         [ 0.7709],\n",
              "         [ 0.1478],\n",
              "         [-0.4668],\n",
              "         [ 0.2549],\n",
              "         [-0.4607],\n",
              "         [-0.1173],\n",
              "         [-0.4062],\n",
              "         [ 0.6634],\n",
              "         [-0.7894],\n",
              "         [-0.4610],\n",
              "         [-0.2824],\n",
              "         [-0.6013],\n",
              "         [ 0.0944],\n",
              "         [-0.9877],\n",
              "         [ 0.9031],\n",
              "         [-0.8495],\n",
              "         [ 0.7720],\n",
              "         [ 0.1664],\n",
              "         [-0.3247],\n",
              "         [ 0.6179],\n",
              "         [ 0.1559],\n",
              "         [ 0.8080],\n",
              "         [ 0.1093],\n",
              "         [-0.3154],\n",
              "         [ 0.2687],\n",
              "         [-0.2712],\n",
              "         [ 0.4209],\n",
              "         [ 0.8928],\n",
              "         [ 0.5781],\n",
              "         [-0.4372],\n",
              "         [ 0.5773],\n",
              "         [ 0.1789],\n",
              "         [ 0.5078],\n",
              "         [-0.6095],\n",
              "         [-0.9899],\n",
              "         [-0.3864],\n",
              "         [-0.7670],\n",
              "         [ 0.8205],\n",
              "         [ 0.2880],\n",
              "         [ 0.4142],\n",
              "         [ 0.3163],\n",
              "         [-0.0174],\n",
              "         [ 0.7826],\n",
              "         [-0.7105],\n",
              "         [ 0.0630],\n",
              "         [-0.6825],\n",
              "         [ 0.3084],\n",
              "         [-0.3444],\n",
              "         [ 0.3064],\n",
              "         [-0.2083],\n",
              "         [ 0.8294],\n",
              "         [-0.5927],\n",
              "         [-0.5964],\n",
              "         [-0.5964],\n",
              "         [ 0.8994],\n",
              "         [ 0.3333],\n",
              "         [ 0.9623],\n",
              "         [-0.8253],\n",
              "         [-0.9919],\n",
              "         [-0.7824],\n",
              "         [-0.6727],\n",
              "         [ 0.4050],\n",
              "         [ 0.3581],\n",
              "         [ 0.8309],\n",
              "         [-0.5164],\n",
              "         [-0.6817],\n",
              "         [ 0.5306],\n",
              "         [-0.4042],\n",
              "         [ 0.6069],\n",
              "         [-0.2373],\n",
              "         [ 0.5720],\n",
              "         [-0.7770],\n",
              "         [-0.5046],\n",
              "         [ 0.3049],\n",
              "         [ 0.2114],\n",
              "         [-0.2550],\n",
              "         [ 0.5961],\n",
              "         [ 0.6798],\n",
              "         [-0.7252],\n",
              "         [-0.5339],\n",
              "         [ 0.9157],\n",
              "         [-0.3374],\n",
              "         [-0.3545],\n",
              "         [-0.9676],\n",
              "         [-0.5727],\n",
              "         [ 0.2498],\n",
              "         [-0.1320],\n",
              "         [-0.7259],\n",
              "         [ 0.0235],\n",
              "         [-0.6831],\n",
              "         [-0.8484],\n",
              "         [-0.5507],\n",
              "         [-0.8752],\n",
              "         [-0.6367],\n",
              "         [ 0.9996],\n",
              "         [ 0.1889],\n",
              "         [ 0.3082],\n",
              "         [-0.9327],\n",
              "         [-0.6568],\n",
              "         [-0.3329],\n",
              "         [ 0.1564],\n",
              "         [-0.8799],\n",
              "         [-0.4309],\n",
              "         [-0.5987],\n",
              "         [ 0.0028],\n",
              "         [-0.3721],\n",
              "         [-0.0693],\n",
              "         [-0.6776],\n",
              "         [-0.6864],\n",
              "         [-0.5834],\n",
              "         [-0.3423],\n",
              "         [-0.7893]], requires_grad=True),\n",
              " Parameter containing:\n",
              " tensor([ 0.8385, -0.1985,  0.8604,  0.3116, -0.8468,  0.6920, -0.2751, -0.3833,\n",
              "         -0.8301, -0.9942,  0.2861, -0.2184,  0.3893, -0.8207,  0.7424, -0.7341,\n",
              "         -0.1727,  0.2089,  0.5163,  0.8073,  0.9110, -0.7929,  0.2517, -0.4301,\n",
              "         -0.1096, -0.7485,  0.9109, -0.7340,  0.5345,  0.3514,  0.3250, -0.5406,\n",
              "          0.9090,  0.2198,  0.1286, -0.8813,  0.4198, -0.1500, -0.4581,  0.8589,\n",
              "          0.2229, -0.5533, -0.5061, -0.0478,  0.5584, -0.2555, -0.5706, -0.3424,\n",
              "         -0.7471,  0.3566,  0.7740, -0.9414,  0.2323,  0.5166,  0.1813, -0.3561,\n",
              "          0.5219,  0.5255,  0.3739, -0.1757, -0.2648,  0.1070, -0.1767, -0.2980,\n",
              "          0.6392,  0.8594, -0.0990, -0.2239,  0.0146, -0.0597,  0.2404,  0.2802,\n",
              "         -0.9083, -0.3690,  0.8421,  0.3896, -0.0497, -0.6029, -0.6118, -0.8958,\n",
              "         -0.3260,  0.3377,  0.6376,  0.4617, -0.8839, -0.6014, -0.1578,  0.9673,\n",
              "          0.1447, -0.2590,  0.4137, -0.3809, -0.6473,  0.7299, -0.4547, -0.2005,\n",
              "         -0.9948,  0.6693,  0.7576,  0.3644, -0.6973, -0.9869, -0.8122,  0.7457,\n",
              "          0.4801,  0.8415,  0.5239,  0.2531, -0.0098, -0.7605, -0.8568, -0.9353,\n",
              "          0.4094, -0.4910, -0.2013, -0.5755, -0.1822, -0.7038, -0.6534,  0.3317,\n",
              "         -0.2972,  0.6173, -0.3208, -0.7336, -0.1764, -0.4847, -0.3059, -0.9520],\n",
              "        requires_grad=True),\n",
              " Parameter containing:\n",
              " tensor([[ 0.0495, -0.0615,  0.0444,  ..., -0.0623,  0.0331,  0.0748],\n",
              "         [ 0.0012,  0.0804, -0.0753,  ..., -0.0163,  0.0073, -0.0811],\n",
              "         [ 0.0275, -0.0674, -0.0559,  ..., -0.0456, -0.0774, -0.0202],\n",
              "         ...,\n",
              "         [ 0.0521,  0.0328, -0.0705,  ..., -0.0256, -0.0661, -0.0658],\n",
              "         [ 0.0005, -0.0142,  0.0688,  ...,  0.0607,  0.0585, -0.0725],\n",
              "         [ 0.0357,  0.0171,  0.0485,  ..., -0.0672, -0.0282, -0.0068]],\n",
              "        requires_grad=True),\n",
              " Parameter containing:\n",
              " tensor([-0.0387,  0.0418,  0.0772,  0.0478, -0.0186, -0.0694, -0.0730, -0.0212,\n",
              "         -0.0278, -0.0670,  0.0219, -0.0335,  0.0256, -0.0469, -0.0080, -0.0266,\n",
              "          0.0543, -0.0807, -0.0349,  0.0189, -0.0249, -0.0015,  0.0597,  0.0127,\n",
              "          0.0109,  0.0258, -0.0476, -0.0353,  0.0423,  0.0128,  0.0577, -0.0113,\n",
              "          0.0830,  0.0528, -0.0248, -0.0452,  0.0178, -0.0737, -0.0405,  0.0271,\n",
              "          0.0077,  0.0400, -0.0370,  0.0744, -0.0486, -0.0453,  0.0591, -0.0171,\n",
              "          0.0253, -0.0157, -0.0625, -0.0035,  0.0401,  0.0596,  0.0674, -0.0031,\n",
              "          0.0640,  0.0249,  0.0033,  0.0017, -0.0084,  0.0252, -0.0046,  0.0568],\n",
              "        requires_grad=True),\n",
              " Parameter containing:\n",
              " tensor([[-0.0190, -0.0694,  0.0363, -0.0700,  0.0776,  0.1021,  0.0201, -0.0251,\n",
              "          -0.0056,  0.0585, -0.0955, -0.0335, -0.0762, -0.1131, -0.0894, -0.0803,\n",
              "           0.0952,  0.0764, -0.0849, -0.0986,  0.1119,  0.0297,  0.0576,  0.0195,\n",
              "          -0.0467, -0.0675,  0.0673, -0.1235, -0.1040,  0.0377, -0.0328,  0.0239,\n",
              "           0.0667, -0.0718, -0.0704, -0.0769, -0.1094, -0.0085,  0.1061, -0.0076,\n",
              "           0.0686, -0.0622,  0.0124, -0.0939, -0.0083,  0.0274, -0.0535,  0.1148,\n",
              "           0.0353,  0.0625,  0.1244,  0.0530, -0.0098,  0.0597,  0.1232, -0.1203,\n",
              "          -0.0236,  0.0607, -0.0303, -0.1017, -0.0726, -0.0650,  0.0518,  0.0796]],\n",
              "        requires_grad=True),\n",
              " Parameter containing:\n",
              " tensor([-0.0142], requires_grad=True)]"
            ]
          },
          "metadata": {},
          "execution_count": 94
        }
      ]
    },
    {
      "cell_type": "markdown",
      "source": [
        "Making predictions using torch.inference_mode() \\\\\n",
        "To check this we pass the test data X_test to see how closely it predicts y_test.\n",
        "\n",
        "When we pass data to our model, it'll go through the model's forward() method and produce a result using the computation we defined."
      ],
      "metadata": {
        "id": "s5FPqzGgutxD"
      }
    },
    {
      "cell_type": "code",
      "source": [
        "# Make predictions with model\n",
        "with torch.inference_mode():\n",
        "    y_preds = model_0(X_test)\n",
        "\n",
        "# Note: in older PyTorch code you might also see torch.no_grad()\n",
        "# with torch.no_grad():\n",
        "#   y_preds = model_0(X_test)"
      ],
      "metadata": {
        "id": "gFCqlKovJ__0"
      },
      "execution_count": 95,
      "outputs": []
    },
    {
      "cell_type": "code",
      "source": [
        "# Check the predictions\n",
        "print(f\"Number of testing samples: {len(X_test)}\")\n",
        "print(f\"Number of predictions made: {len(y_preds)}\")\n",
        "print(f\"Predicted values:\\n{y_preds}\")"
      ],
      "metadata": {
        "colab": {
          "base_uri": "https://localhost:8080/"
        },
        "id": "GhEQXzbaKDeZ",
        "outputId": "f83146a7-4b4d-45ea-9834-47cd22428500"
      },
      "execution_count": 96,
      "outputs": [
        {
          "output_type": "stream",
          "name": "stdout",
          "text": [
            "Number of testing samples: 10\n",
            "Number of predictions made: 10\n",
            "Predicted values:\n",
            "tensor([[0.0393],\n",
            "        [0.0412],\n",
            "        [0.0430],\n",
            "        [0.0442],\n",
            "        [0.0451],\n",
            "        [0.0456],\n",
            "        [0.0462],\n",
            "        [0.0467],\n",
            "        [0.0463],\n",
            "        [0.0457]])\n"
          ]
        }
      ]
    },
    {
      "cell_type": "markdown",
      "source": [
        "We visualize our predictions and compare them with training and testing data"
      ],
      "metadata": {
        "id": "5_ax8eGku7PE"
      }
    },
    {
      "cell_type": "code",
      "source": [
        "plot_predictions(predictions=y_preds)"
      ],
      "metadata": {
        "colab": {
          "base_uri": "https://localhost:8080/",
          "height": 599
        },
        "id": "AHV-8y2BKGdZ",
        "outputId": "4c9990f5-28f1-40b1-f7a1-3745202bc385"
      },
      "execution_count": 97,
      "outputs": [
        {
          "output_type": "display_data",
          "data": {
            "text/plain": [
              "<Figure size 1000x700 with 1 Axes>"
            ],
            "image/png": "[encoded data removed]"
          },
          "metadata": {}
        }
      ]
    },
    {
      "cell_type": "code",
      "source": [
        "y_test - y_preds"
      ],
      "metadata": {
        "colab": {
          "base_uri": "https://localhost:8080/"
        },
        "id": "8cUIaNIrKKEV",
        "outputId": "71447c2c-ef4e-4d48-9d81-fe5dae5045f8"
      },
      "execution_count": 98,
      "outputs": [
        {
          "output_type": "execute_result",
          "data": {
            "text/plain": [
              "tensor([[0.8207],\n",
              "        [0.8328],\n",
              "        [0.8450],\n",
              "        [0.8578],\n",
              "        [0.8709],\n",
              "        [0.8844],\n",
              "        [0.8978],\n",
              "        [0.9113],\n",
              "        [0.9257],\n",
              "        [0.9403]])"
            ]
          },
          "metadata": {},
          "execution_count": 98
        }
      ]
    },
    {
      "cell_type": "markdown",
      "source": [
        "To improve our predictions we create a loss function and an optimizer"
      ],
      "metadata": {
        "id": "iIYk4rj2vKjv"
      }
    },
    {
      "cell_type": "code",
      "source": [
        "# Create the loss function\n",
        "loss_fn = nn.L1Loss() # MAE loss is same as L1Loss\n",
        "\n",
        "# Create the optimizer\n",
        "optimizer = torch.optim.SGD(params=model_0.parameters(), # parameters of target model to optimize\n",
        "                            lr=0.01) # learning rate (how much the optimizer should change parameters at each step, higher=more (less stable), lower=less (might take a long time))"
      ],
      "metadata": {
        "id": "5IO_DHgxKTlZ"
      },
      "execution_count": 99,
      "outputs": []
    },
    {
      "cell_type": "markdown",
      "source": [
        "The code trains and evaluates a model over 100 epochs, tracking training and testing loss to monitor progress. During training, the model is set to training mode, performs a forward pass to generate predictions, computes the loss, calculates gradients through backpropagation, and updates the model parameters. In testing, the model is switched to evaluation mode, and predictions on the test set are used to compute test loss without gradient computation for efficiency. Every 10 epochs, the training and test losses are logged, detached from the computational graph, and printed to track the model's performance and convergence over time."
      ],
      "metadata": {
        "id": "Y0lGnAEHwGgs"
      }
    },
    {
      "cell_type": "code",
      "source": [
        "torch.manual_seed(42)\n",
        "\n",
        "# Set the number of epochs (how many times the model will pass over the training data)\n",
        "epochs = 100\n",
        "\n",
        "# Create empty loss lists to track values\n",
        "train_loss_values = []\n",
        "test_loss_values = []\n",
        "epoch_count = []\n",
        "\n",
        "for epoch in range(epochs):\n",
        "    ### Training\n",
        "\n",
        "    # Put model in training mode (this is the default state of a model)\n",
        "    model_0.train()\n",
        "\n",
        "    # 1. Forward pass on train data using the forward() method inside\n",
        "    y_pred = model_0(X_train)\n",
        "    # print(y_pred)\n",
        "\n",
        "    # 2. Calculate the loss (how different are our models predictions to the ground truth)\n",
        "    loss = loss_fn(y_pred, y_train)\n",
        "\n",
        "    # 3. Zero grad of the optimizer\n",
        "    optimizer.zero_grad()\n",
        "\n",
        "    # 4. Loss backwards\n",
        "    loss.backward()\n",
        "\n",
        "    # 5. Progress the optimizer\n",
        "    optimizer.step()\n",
        "\n",
        "    ### Testing\n",
        "\n",
        "    # Put the model in evaluation mode\n",
        "    model_0.eval()\n",
        "\n",
        "    with torch.inference_mode():\n",
        "      # 1. Forward pass on test data\n",
        "      test_pred = model_0(X_test)\n",
        "\n",
        "      # 2. Caculate loss on test data\n",
        "      test_loss = loss_fn(test_pred, y_test.type(torch.float)) # predictions come in torch.float datatype, so comparisons need to be done with tensors of the same type\n",
        "\n",
        "      # Print out what's happening\n",
        "      if epoch % 10 == 0:\n",
        "            epoch_count.append(epoch)\n",
        "            train_loss_values.append(loss.detach().numpy())\n",
        "            test_loss_values.append(test_loss.detach().numpy())\n",
        "            print(f\"Epoch: {epoch} | MAE Train Loss: {loss} | MAE Test Loss: {test_loss} \")"
      ],
      "metadata": {
        "colab": {
          "base_uri": "https://localhost:8080/"
        },
        "id": "jE_qewG6KU1i",
        "outputId": "52d4a724-6c2e-401c-c598-0a355dee109d"
      },
      "execution_count": 100,
      "outputs": [
        {
          "output_type": "stream",
          "name": "stdout",
          "text": [
            "Epoch: 0 | MAE Train Loss: 0.5559879541397095 | MAE Test Loss: 0.8075816035270691 \n",
            "Epoch: 10 | MAE Train Loss: 0.09476989507675171 | MAE Test Loss: 0.2538420855998993 \n",
            "Epoch: 20 | MAE Train Loss: 0.06270377337932587 | MAE Test Loss: 0.17941556870937347 \n",
            "Epoch: 30 | MAE Train Loss: 0.03794743865728378 | MAE Test Loss: 0.12645277380943298 \n",
            "Epoch: 40 | MAE Train Loss: 0.01276387833058834 | MAE Test Loss: 0.07291803508996964 \n",
            "Epoch: 50 | MAE Train Loss: 0.05641229823231697 | MAE Test Loss: 0.10204007476568222 \n",
            "Epoch: 60 | MAE Train Loss: 0.046429745852947235 | MAE Test Loss: 0.11784379184246063 \n",
            "Epoch: 70 | MAE Train Loss: 0.04095855727791786 | MAE Test Loss: 0.12139622122049332 \n",
            "Epoch: 80 | MAE Train Loss: 0.04474173113703728 | MAE Test Loss: 0.12479428946971893 \n",
            "Epoch: 90 | MAE Train Loss: 0.04599694535136223 | MAE Test Loss: 0.12271241843700409 \n"
          ]
        }
      ]
    },
    {
      "cell_type": "markdown",
      "source": [
        "Now we plot and visualize the training and testing loss curves"
      ],
      "metadata": {
        "id": "mMW1OFdywJag"
      }
    },
    {
      "cell_type": "code",
      "source": [
        "# Plot the loss curves\n",
        "plt.plot(epoch_count, train_loss_values, label=\"Train loss\")\n",
        "plt.plot(epoch_count, test_loss_values, label=\"Test loss\")\n",
        "plt.title(\"Training and test loss curves\")\n",
        "plt.ylabel(\"Loss\")\n",
        "plt.xlabel(\"Epochs\")\n",
        "plt.legend();"
      ],
      "metadata": {
        "colab": {
          "base_uri": "https://localhost:8080/",
          "height": 472
        },
        "id": "UkfYry4ZMZwV",
        "outputId": "a0b0cf32-264e-41c4-ce06-3c55f379498c"
      },
      "execution_count": 101,
      "outputs": [
        {
          "output_type": "display_data",
          "data": {
            "text/plain": [
              "<Figure size 640x480 with 1 Axes>"
            ],
            "image/png": "[encoded data removed]"
          },
          "metadata": {}
        }
      ]
    },
    {
      "cell_type": "markdown",
      "source": [
        "Now we print the values for weights and bias after training for 100 epochs"
      ],
      "metadata": {
        "id": "upYgMD7_wYg6"
      }
    },
    {
      "cell_type": "code",
      "source": [
        "# Find our model's learned parameters\n",
        "print(\"The model learned the following values for weights and bias:\")\n",
        "print(model_0.state_dict())\n",
        "print(\"\\nAnd the original values for weights and bias are:\")\n",
        "print(f\"weights: {weight}, bias: {bias}\")"
      ],
      "metadata": {
        "colab": {
          "base_uri": "https://localhost:8080/"
        },
        "id": "j4VHVBfcMdzK",
        "outputId": "6782b19d-86f4-42d9-c4ca-fe0b4448fdd2"
      },
      "execution_count": 102,
      "outputs": [
        {
          "output_type": "stream",
          "name": "stdout",
          "text": [
            "The model learned the following values for weights and bias:\n",
            "OrderedDict([('layers.0.weight', tensor([[ 0.7643],\n",
            "        [ 0.8326],\n",
            "        [-0.2347],\n",
            "        [ 0.9215],\n",
            "        [-0.2191],\n",
            "        [ 0.2032],\n",
            "        [-0.4869],\n",
            "        [ 0.5882],\n",
            "        [ 0.8815],\n",
            "        [-0.7336],\n",
            "        [ 0.8714],\n",
            "        [ 0.1872],\n",
            "        [ 0.7426],\n",
            "        [ 0.1354],\n",
            "        [ 0.4879],\n",
            "        [-0.1412],\n",
            "        [ 0.7693],\n",
            "        [ 0.1468],\n",
            "        [-0.4685],\n",
            "        [ 0.2610],\n",
            "        [-0.4605],\n",
            "        [-0.1173],\n",
            "        [-0.4057],\n",
            "        [ 0.6638],\n",
            "        [-0.7894],\n",
            "        [-0.4610],\n",
            "        [-0.2807],\n",
            "        [-0.6013],\n",
            "        [ 0.0926],\n",
            "        [-0.9871],\n",
            "        [ 0.9040],\n",
            "        [-0.8495],\n",
            "        [ 0.7744],\n",
            "        [ 0.1686],\n",
            "        [-0.3247],\n",
            "        [ 0.6179],\n",
            "        [ 0.1576],\n",
            "        [ 0.8102],\n",
            "        [ 0.1093],\n",
            "        [-0.3117],\n",
            "        [ 0.2688],\n",
            "        [-0.2712],\n",
            "        [ 0.4209],\n",
            "        [ 0.8923],\n",
            "        [ 0.5789],\n",
            "        [-0.4372],\n",
            "        [ 0.5773],\n",
            "        [ 0.1789],\n",
            "        [ 0.5078],\n",
            "        [-0.6101],\n",
            "        [-0.9893],\n",
            "        [-0.3864],\n",
            "        [-0.7665],\n",
            "        [ 0.8211],\n",
            "        [ 0.2878],\n",
            "        [ 0.4142],\n",
            "        [ 0.3189],\n",
            "        [-0.0176],\n",
            "        [ 0.7847],\n",
            "        [-0.7105],\n",
            "        [ 0.0630],\n",
            "        [-0.6826],\n",
            "        [ 0.3092],\n",
            "        [-0.3444],\n",
            "        [ 0.3089],\n",
            "        [-0.2098],\n",
            "        [ 0.8318],\n",
            "        [-0.5927],\n",
            "        [-0.5964],\n",
            "        [-0.5964],\n",
            "        [ 0.9025],\n",
            "        [ 0.3291],\n",
            "        [ 0.9623],\n",
            "        [-0.8253],\n",
            "        [-0.9959],\n",
            "        [-0.7820],\n",
            "        [-0.6727],\n",
            "        [ 0.4050],\n",
            "        [ 0.3581],\n",
            "        [ 0.8309],\n",
            "        [-0.5164],\n",
            "        [-0.6820],\n",
            "        [ 0.5362],\n",
            "        [-0.4068],\n",
            "        [ 0.6069],\n",
            "        [-0.2373],\n",
            "        [ 0.5707],\n",
            "        [-0.7740],\n",
            "        [-0.5048],\n",
            "        [ 0.3049],\n",
            "        [ 0.2099],\n",
            "        [-0.2550],\n",
            "        [ 0.5961],\n",
            "        [ 0.6808],\n",
            "        [-0.7252],\n",
            "        [-0.5339],\n",
            "        [ 0.9157],\n",
            "        [-0.3340],\n",
            "        [-0.3569],\n",
            "        [-0.9663],\n",
            "        [-0.5727],\n",
            "        [ 0.2498],\n",
            "        [-0.1320],\n",
            "        [-0.7255],\n",
            "        [ 0.0230],\n",
            "        [-0.6795],\n",
            "        [-0.8486],\n",
            "        [-0.5512],\n",
            "        [-0.8752],\n",
            "        [-0.6367],\n",
            "        [ 0.9996],\n",
            "        [ 0.1889],\n",
            "        [ 0.3103],\n",
            "        [-0.9327],\n",
            "        [-0.6568],\n",
            "        [-0.3329],\n",
            "        [ 0.1564],\n",
            "        [-0.8799],\n",
            "        [-0.4309],\n",
            "        [-0.5987],\n",
            "        [ 0.0028],\n",
            "        [-0.3707],\n",
            "        [-0.0693],\n",
            "        [-0.6776],\n",
            "        [-0.6864],\n",
            "        [-0.5834],\n",
            "        [-0.3423],\n",
            "        [-0.7893]])), ('layers.0.bias', tensor([ 0.8360, -0.1949,  0.8603,  0.3126, -0.8468,  0.6918, -0.2751, -0.3820,\n",
            "        -0.8301, -0.9942,  0.2864, -0.2184,  0.3913, -0.8207,  0.7437, -0.7341,\n",
            "        -0.1752,  0.2093,  0.5160,  0.8098,  0.9115, -0.7929,  0.2516, -0.4296,\n",
            "        -0.1096, -0.7485,  0.9111, -0.7340,  0.5330,  0.3550,  0.3248, -0.5406,\n",
            "         0.9086,  0.2198,  0.1287, -0.8813,  0.4203, -0.1474, -0.4581,  0.8603,\n",
            "         0.2225, -0.5533, -0.5061, -0.0491,  0.5583, -0.2555, -0.5706, -0.3424,\n",
            "        -0.7471,  0.3589,  0.7748, -0.9414,  0.2354,  0.5154,  0.1800, -0.3561,\n",
            "         0.5219,  0.5238,  0.3729, -0.1757, -0.2648,  0.1067, -0.1753, -0.2980,\n",
            "         0.6394,  0.8587, -0.0971, -0.2239,  0.0155, -0.0597,  0.2418,  0.2771,\n",
            "        -0.9083, -0.3690,  0.8392,  0.3939, -0.0497, -0.6029, -0.6118, -0.8958,\n",
            "        -0.3260,  0.3331,  0.6389,  0.4608, -0.8839, -0.6014, -0.1601,  0.9689,\n",
            "         0.1434, -0.2590,  0.4116, -0.3809, -0.6473,  0.7286, -0.4547, -0.2005,\n",
            "        -0.9948,  0.6718,  0.7555,  0.3715, -0.6973, -0.9869, -0.8122,  0.7457,\n",
            "         0.4790,  0.8429,  0.5239,  0.2503, -0.0098, -0.7605, -0.8568, -0.9353,\n",
            "         0.4110, -0.4910, -0.2013, -0.5755, -0.1822, -0.7038, -0.6534,  0.3328,\n",
            "        -0.2972,  0.6185, -0.3208, -0.7336, -0.1764, -0.4847, -0.3059, -0.9520])), ('layers.2.weight', tensor([[ 0.0495, -0.0615,  0.0444,  ..., -0.0623,  0.0331,  0.0748],\n",
            "        [ 0.0012,  0.0804, -0.0753,  ..., -0.0163,  0.0073, -0.0811],\n",
            "        [ 0.0275, -0.0674, -0.0559,  ..., -0.0456, -0.0774, -0.0202],\n",
            "        ...,\n",
            "        [ 0.0444,  0.0298, -0.0732,  ..., -0.0256, -0.0661, -0.0658],\n",
            "        [ 0.0086, -0.0097,  0.0698,  ...,  0.0607,  0.0585, -0.0725],\n",
            "        [ 0.0472,  0.0228,  0.0507,  ..., -0.0672, -0.0282, -0.0068]])), ('layers.2.bias', tensor([-0.0387,  0.0418,  0.0772,  0.0428, -0.0136, -0.0694, -0.0701, -0.0231,\n",
            "        -0.0283, -0.0670,  0.0174, -0.0332,  0.0256, -0.0469, -0.0112, -0.0266,\n",
            "         0.0605, -0.0758, -0.0351,  0.0220, -0.0178,  0.0002,  0.0571,  0.0161,\n",
            "         0.0109,  0.0211, -0.0476, -0.0353,  0.0423,  0.0151,  0.0577, -0.0098,\n",
            "         0.0830,  0.0512, -0.0230, -0.0452,  0.0127, -0.0746, -0.0336,  0.0264,\n",
            "         0.0111,  0.0304, -0.0364,  0.0680, -0.0491, -0.0453,  0.0591, -0.0062,\n",
            "         0.0274, -0.0119, -0.0546, -0.0035,  0.0393,  0.0596,  0.0751, -0.0043,\n",
            "         0.0622,  0.0249,  0.0033,  0.0017, -0.0096,  0.0208, -0.0014,  0.0620])), ('layers.4.weight', tensor([[-0.0190, -0.0694,  0.0363, -0.0164,  0.0799,  0.1021,  0.0323, -0.0126,\n",
            "         -0.0053,  0.0585, -0.0943, -0.0428, -0.0762, -0.1131, -0.0927, -0.0803,\n",
            "          0.1070,  0.1138, -0.0849, -0.1067,  0.1530,  0.0423,  0.0560,  0.0549,\n",
            "         -0.0467, -0.0313,  0.0673, -0.1235, -0.1040,  0.0718, -0.0328,  0.0243,\n",
            "          0.0667, -0.0715, -0.0735, -0.0769, -0.1076,  0.0210,  0.1247,  0.0161,\n",
            "          0.0616, -0.0435,  0.0623, -0.0730, -0.0074,  0.0274, -0.0535,  0.1552,\n",
            "          0.0747,  0.1279,  0.1600,  0.0530,  0.0066,  0.0597,  0.1143, -0.1366,\n",
            "          0.0159,  0.0607, -0.0303, -0.1017, -0.0768, -0.0392,  0.0799,  0.1004]])), ('layers.4.bias', tensor([0.0558]))])\n",
            "\n",
            "And the original values for weights and bias are:\n",
            "weights: 0.7, bias: 0.3\n"
          ]
        }
      ]
    },
    {
      "cell_type": "code",
      "source": [
        "# 1. Set the model in evaluation mode\n",
        "model_0.eval()\n",
        "\n",
        "# 2. Setup the inference mode context manager\n",
        "with torch.inference_mode():\n",
        "  y_preds = model_0(X_test)\n",
        "y_preds"
      ],
      "metadata": {
        "colab": {
          "base_uri": "https://localhost:8080/"
        },
        "id": "2ujxDJylMgRE",
        "outputId": "e5c3da3e-d1d4-4136-c10f-8fe968998e45"
      },
      "execution_count": 103,
      "outputs": [
        {
          "output_type": "execute_result",
          "data": {
            "text/plain": [
              "tensor([[0.8543],\n",
              "        [0.8636],\n",
              "        [0.8729],\n",
              "        [0.8814],\n",
              "        [0.8898],\n",
              "        [0.8983],\n",
              "        [0.9065],\n",
              "        [0.9147],\n",
              "        [0.9221],\n",
              "        [0.9292]])"
            ]
          },
          "metadata": {},
          "execution_count": 103
        }
      ]
    },
    {
      "cell_type": "markdown",
      "source": [
        "Now the visualize the training, testing and predicted data after training our model. As observed the predictions this time are much better compared to the untrained model with random weights and biases."
      ],
      "metadata": {
        "id": "IRnYsEd13dgd"
      }
    },
    {
      "cell_type": "code",
      "source": [
        "plot_predictions(predictions=y_preds)"
      ],
      "metadata": {
        "colab": {
          "base_uri": "https://localhost:8080/",
          "height": 599
        },
        "id": "ZI53McMnMkY6",
        "outputId": "96eaae52-3478-492a-d121-ef13e218f287"
      },
      "execution_count": 104,
      "outputs": [
        {
          "output_type": "display_data",
          "data": {
            "text/plain": [
              "<Figure size 1000x700 with 1 Axes>"
            ],
            "image/png": "[encoded data removed]"
          },
          "metadata": {}
        }
      ]
    },
    {
      "cell_type": "markdown",
      "source": [
        "Now we save the PyTorch model"
      ],
      "metadata": {
        "id": "avQl0qOY38F3"
      }
    },
    {
      "cell_type": "code",
      "source": [
        "from pathlib import Path\n",
        "\n",
        "# 1. Create models directory\n",
        "MODEL_PATH = Path(\"models\")\n",
        "MODEL_PATH.mkdir(parents=True, exist_ok=True)\n",
        "\n",
        "# 2. Create model save path\n",
        "MODEL_NAME = \"01_pytorch_workflow_model_0.pth\"\n",
        "MODEL_SAVE_PATH = MODEL_PATH / MODEL_NAME\n",
        "\n",
        "# 3. Save the model state dict\n",
        "print(f\"Saving model to: {MODEL_SAVE_PATH}\")\n",
        "torch.save(obj=model_0.state_dict(), # only saving the state_dict() only saves the models learned parameters\n",
        "           f=MODEL_SAVE_PATH)"
      ],
      "metadata": {
        "colab": {
          "base_uri": "https://localhost:8080/"
        },
        "id": "SaoR8zhZMtcn",
        "outputId": "2294eb22-8a14-46c7-b4b1-c9485444c1de"
      },
      "execution_count": 105,
      "outputs": [
        {
          "output_type": "stream",
          "name": "stdout",
          "text": [
            "Saving model to: models/01_pytorch_workflow_model_0.pth\n"
          ]
        }
      ]
    },
    {
      "cell_type": "code",
      "source": [
        "# Check the saved file path\n",
        "!ls -l models/01_pytorch_workflow_model_0.pth"
      ],
      "metadata": {
        "colab": {
          "base_uri": "https://localhost:8080/"
        },
        "id": "pDlpY072NQI_",
        "outputId": "6bc571ad-c430-49a7-ec43-4b6ae61c5114"
      },
      "execution_count": 106,
      "outputs": [
        {
          "output_type": "stream",
          "name": "stdout",
          "text": [
            "-rw-r--r-- 1 root root 37264 Dec  1 03:35 models/01_pytorch_workflow_model_0.pth\n"
          ]
        }
      ]
    },
    {
      "cell_type": "code",
      "source": [
        "# Instantiate a new instance of our model (this will be instantiated with random weights)\n",
        "loaded_model_0 = DNNModel(input_size, hidden_sizes, output_size)\n",
        "\n",
        "# Load the state_dict of our saved model (this will update the new instance of our model with trained weights)\n",
        "loaded_model_0.load_state_dict(torch.load(f=MODEL_SAVE_PATH))"
      ],
      "metadata": {
        "colab": {
          "base_uri": "https://localhost:8080/"
        },
        "id": "95PHW8waNSTV",
        "outputId": "7640dc26-6537-4921-c34f-df6fd0b95d15"
      },
      "execution_count": 107,
      "outputs": [
        {
          "output_type": "stream",
          "name": "stderr",
          "text": [
            "<ipython-input-107-de320ceaf16d>:5: FutureWarning: You are using `torch.load` with `weights_only=False` (the current default value), which uses the default pickle module implicitly. It is possible to construct malicious pickle data which will execute arbitrary code during unpickling (See https://github.com/pytorch/pytorch/blob/main/SECURITY.md#untrusted-models for more details). In a future release, the default value for `weights_only` will be flipped to `True`. This limits the functions that could be executed during unpickling. Arbitrary objects will no longer be allowed to be loaded via this mode unless they are explicitly allowlisted by the user via `torch.serialization.add_safe_globals`. We recommend you start setting `weights_only=True` for any use case where you don't have full control of the loaded file. Please open an issue on GitHub for any issues related to this experimental feature.\n",
            "  loaded_model_0.load_state_dict(torch.load(f=MODEL_SAVE_PATH))\n"
          ]
        },
        {
          "output_type": "execute_result",
          "data": {
            "text/plain": [
              "<All keys matched successfully>"
            ]
          },
          "metadata": {},
          "execution_count": 107
        }
      ]
    },
    {
      "cell_type": "code",
      "source": [
        "# 1. Put the loaded model into evaluation mode\n",
        "loaded_model_0.eval()\n",
        "\n",
        "# 2. Use the inference mode context manager to make predictions\n",
        "with torch.inference_mode():\n",
        "    loaded_model_preds = loaded_model_0(X_test) # perform a forward pass on the test data with the loaded model"
      ],
      "metadata": {
        "id": "QEguziWKOSPj"
      },
      "execution_count": 108,
      "outputs": []
    },
    {
      "cell_type": "code",
      "source": [
        "# Compare previous model predictions with loaded model predictions (these should be the same)\n",
        "y_preds == loaded_model_preds"
      ],
      "metadata": {
        "colab": {
          "base_uri": "https://localhost:8080/"
        },
        "id": "Gw4j8N39OW9K",
        "outputId": "76d729e1-c9e2-47e9-e801-4c5cbc94ee19"
      },
      "execution_count": 109,
      "outputs": [
        {
          "output_type": "execute_result",
          "data": {
            "text/plain": [
              "tensor([[True],\n",
              "        [True],\n",
              "        [True],\n",
              "        [True],\n",
              "        [True],\n",
              "        [True],\n",
              "        [True],\n",
              "        [True],\n",
              "        [True],\n",
              "        [True]])"
            ]
          },
          "metadata": {},
          "execution_count": 109
        }
      ]
    }
  ]
}